{
 "cells": [
  {
   "cell_type": "code",
   "execution_count": 1,
   "id": "ba02f3af",
   "metadata": {},
   "outputs": [],
   "source": [
    "from pyspark import SparkConf, SparkContext\n",
    "conf = SparkConf().setMaster(\"local\").setAppName(\"Mi programa\")\n",
    "sc = SparkContext(conf=conf)\n",
    "lines = sc.textFile(\"C:/Users/Gabo0/Desktop/Jupyter Python/Ejercicios Linkedin/ejemplo.txt\")"
   ]
  },
  {
   "cell_type": "code",
   "execution_count": 2,
   "id": "aee51f51",
   "metadata": {},
   "outputs": [],
   "source": [
    "# Definir nuestros acumuladores\n",
    "py = sc.accumulator(0)\n",
    "sp = sc.accumulator(0)"
   ]
  },
  {
   "cell_type": "code",
   "execution_count": 3,
   "id": "76a72de0",
   "metadata": {},
   "outputs": [],
   "source": [
    "def lenguajes(linea):\n",
    "    global py, sp\n",
    "    if \"Python\" in linea:\n",
    "        py += 1\n",
    "        if \"Spark\" in linea:\n",
    "            sp += 1\n",
    "        return True\n",
    "    if \"Spark\" in linea:\n",
    "        sp += 1\n",
    "        return True\n",
    "    else:\n",
    "        return False\n",
    "\n",
    "valores = lines.filter(lenguajes)"
   ]
  },
  {
   "cell_type": "code",
   "execution_count": 4,
   "id": "a32f4e05",
   "metadata": {},
   "outputs": [
    {
     "data": {
      "text/plain": [
       "['Apache Spark',\n",
       " 'Apache Spark',\n",
       " 'Spark Logo',\n",
       " 'Programado en\\tScala, Java, Python, R',\n",
       " 'Apache Spark es un framework de computación en clúster open-source. Fue desarrollada originariamente en la Universidad de California, en el AMPLab de Berkeley. El código base del proyecto Spark fue donado más tarde a la Apache Software Foundation que se encarga de su mantenimiento desde entonces. Spark proporciona una interfaz para la programación de clusters completos con Paralelismo de Datos implícito y tolerancia a fallos.',\n",
       " 'Apache Spark se puede considerar un sistema de computación en clúster de propósito general y orientado a la velocidad. Proporciona APIs en Java, Scala, Python y R. También proporciona un motor optimizado que soporta la ejecución de grafos en general. También soporta un conjunto extenso y rico de herramientas de alto nivel entre las que se incluyen Spark SQL (para el procesamiento de datos estructurados basada en SQL), MLlib para implementar machine learning, GraphX para el procesamiento de grafos y Spark Streaming.',\n",
       " 'Spark fue desarrollado en sus inicios por Matei Zaharia en el AMPLab de la UC Berkeley en 2009. Fue liberado como código abierto en 2010 bajo licencia BSD.',\n",
       " 'En 2013, el proyecto fue donado a la Apache Software Foundation y se modificó su licencia a Apache 2.0. En febrero de 2014, Spark se convirtió en un Top-Level Apache Project.1\\u200b',\n",
       " 'En noviembre de 2014, la empresa de su fundador, M. Zaharia, Databricks obtuvo un nuevo récord mundial en la ordenación a gran escala usando Spark.2\\u200b',\n",
       " 'Hacia 2015, Spark tenía más de 1000 contribuidores3\\u200b convirtiéndose en uno de los proyectos más activos de la Apache Software Foundation4\\u200b y en uno de los proyectos de big data open source más activos.',\n",
       " 'Apache Spark tiene la base de su arquitectura en el llamado RDD o Resilient Distributed DataSet que es un multiset de solo lectura de ítems de datos distribuidos a lo largo de un clúster de máquinas que se mantiene en un entorno tolerante de fallos.10\\u200b',\n",
       " 'En Spark 1.x, RDD era la API principal pero con el desarrollo de Spark 2.0, se recomienda la utilización de la API DataSet.11\\u200b aunque la API RDD no se considera descatalogada.12\\u200b13\\u200b la tecnología RDD todavía está presente en la base de la API DataSet.14\\u200b',\n",
       " 'Spark y sus RDDs fueron desarrollados en 2012 en respuesta a las limitaciones del paradigma de computación en clúster MapReduce que fuerza a la utilización de una estructura lineal dataflow en particular en los programas distribuidos: Los programas basados en MapReduce leen los datos de entrada desde disco, que mapea una función a lo largo de los datos, reduce los resultados del mapa y almacena los resultados de la reducción en disco.',\n",
       " 'Los RDDs de Spark funcionan como un working set para los programas distribuidos que ofrecen una forma (deliberadamente) restringida de la memoria compartida distribuida.15\\u200b',\n",
       " 'Spark facilita la implementación de tanto algoritmos iterativos que visitan su dataset muchas veces en un mismo bucle tanto como el análisis de datos interactivo/exploratorio (i.e.',\n",
       " 'Más allá de los algoritmos de tipor iterativos, están los algoritmos de entrenamiento para sistemas de machine learning , que constituyeron el impulso inicial del desarrollo de Apache Spark.17\\u200b',\n",
       " 'Apache Spark requiere de un cluster manager y un sistema de almacenamiento distribuido.',\n",
       " 'Para la gestión del clúster, Spark soporta las opciones siguientes:',\n",
       " 'Spark Standalone (Cluster Spark Nativo)',\n",
       " 'Para el almacenamiento distribuido, Spark presenta interfaces hacia una gran variedad de plataformas:',\n",
       " 'Spark también soporta un modo local pseudo-distribuido, normalmente utilizado solamente para pruebas o en entornos de desarrollo donde el almacenamiento distribuido no es obligatorio y se puede usar el sistema de archivos local; en un escenarion como este, Spark se ejecuta en una única máquina con un executor por cada core de CPU.',\n",
       " ' «The Apache Software Foundation Announces Apache&#8482 Spark&#8482 as a Top-Level Project». apache.org. Apache Software Foundation. 27 de febrero de 2014. Consultado el 4 de marzo de 2014.',\n",
       " ' Spark officially sets a new record in large-scale sorting',\n",
       " ' Open HUB Spark development activity',\n",
       " ' «The Apache Software Foundation Announces Apache&#8482 Spark&#8482 as a Top-Level Project». apache.org. Apache Software Foundation. 27 de febrero de 2014. Consultado el 4 de marzo de 2014.',\n",
       " ' «Spark News». apache.org. Consultado el 30 de marzo de 2017.',\n",
       " ' «Spark News». apache.org.',\n",
       " ' «Spark News». apache.org.',\n",
       " ' «Spark News». apache.org.',\n",
       " ' Zaharia, Matei; Chowdhury, Mosharaf; Franklin, Michael J.; Shenker, Scott; Stoica, Ion. Spark: Cluster Computing with Working Sets. USENIX Workshop on Hot Topics in Cloud Computing (HotCloud).',\n",
       " ' «Spark 2.2.0 Quick Start». apache.org. 11 de julio de 2017. Consultado el 19 de octubre de 2017. «we highly recommend you to switch to use Dataset, which has better performance than RDD».',\n",
       " ' «Spark 2.2.0 deprecation list». apache.org. 11 de julio de 2017. Consultado el 10 de octubre de 2017.',\n",
       " ' Damji, Jules (14 de julio de 2016). «A Tale of Three Apache Spark APIs: RDDs, DataFrames, and Datasets: When to use them and why». databricks.com. Consultado el 19 de octubre de 2017.',\n",
       " ' Chambers, Bill (10 de agosto de 2017). «11». Spark: The Definitive Guide (\"Rough Cut\" pre-print edición). O\\'Reilly Media. «virtually all Spark code you run, where DataFrames or Datasets, compiles down to an RDD».',\n",
       " ' Harris, Derrick (28 de junio de 2014). «4 reasons why Spark could jolt Hadoop into hyperdrive». Gigaom.',\n",
       " ' «Cluster Mode Overview - Spark 1.2.0 Documentation - Cluster Manager Types». apache.org. Apache Foundation. 18 de diciembre de 2014. Consultado el 18 de enero de 2015.',\n",
       " ' Figure showing Spark in relation to other open-source Software projects including Hadoop']"
      ]
     },
     "execution_count": 4,
     "metadata": {},
     "output_type": "execute_result"
    }
   ],
   "source": [
    "valores.collect()"
   ]
  },
  {
   "cell_type": "code",
   "execution_count": 5,
   "id": "81de68d9",
   "metadata": {},
   "outputs": [
    {
     "data": {
      "text/plain": [
       "Accumulator<id=0, value=2>"
      ]
     },
     "execution_count": 5,
     "metadata": {},
     "output_type": "execute_result"
    }
   ],
   "source": [
    "py"
   ]
  },
  {
   "cell_type": "code",
   "execution_count": 6,
   "id": "21308b42",
   "metadata": {},
   "outputs": [
    {
     "data": {
      "text/plain": [
       "Accumulator<id=1, value=36>"
      ]
     },
     "execution_count": 6,
     "metadata": {},
     "output_type": "execute_result"
    }
   ],
   "source": [
    "sp"
   ]
  }
 ],
 "metadata": {
  "kernelspec": {
   "display_name": "Python 3",
   "language": "python",
   "name": "python3"
  },
  "language_info": {
   "codemirror_mode": {
    "name": "ipython",
    "version": 3
   },
   "file_extension": ".py",
   "mimetype": "text/x-python",
   "name": "python",
   "nbconvert_exporter": "python",
   "pygments_lexer": "ipython3",
   "version": "3.8.8"
  }
 },
 "nbformat": 4,
 "nbformat_minor": 5
}
