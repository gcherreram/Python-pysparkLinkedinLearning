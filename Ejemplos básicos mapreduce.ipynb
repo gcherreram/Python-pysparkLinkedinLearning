{
 "cells": [
  {
   "cell_type": "code",
   "execution_count": 1,
   "id": "7cf7e25d",
   "metadata": {},
   "outputs": [],
   "source": [
    "from pyspark import SparkConf, SparkContext\n",
    "from pyspark.sql.types import StringType\n",
    "from pyspark import SQLContext\n",
    "\n",
    "conf = SparkConf().setMaster(\"local\").setAppName(\"Mi programa\")\n",
    "sc = SparkContext(conf=conf)\n",
    "sqlContext = SQLContext(sc)"
   ]
  },
  {
   "cell_type": "code",
   "execution_count": 2,
   "id": "ab1ae48f",
   "metadata": {},
   "outputs": [
    {
     "data": {
      "text/plain": [
       "1"
      ]
     },
     "execution_count": 2,
     "metadata": {},
     "output_type": "execute_result"
    }
   ],
   "source": [
    "lines = sc.textFile(\"C:/Users/Gabo0/Desktop/Jupyter Python/Ejercicios Linkedin/ejemplo.txt\")\n",
    "#lines = lines.repartition(3)\n",
    "lines.getNumPartitions()"
   ]
  },
  {
   "cell_type": "code",
   "execution_count": 3,
   "id": "9bb08892",
   "metadata": {},
   "outputs": [],
   "source": [
    "py = sc.accumulator(0)\n",
    "sp = sc.accumulator(0)\n",
    "\n",
    "def lenguajes(linea):\n",
    "    global py, sp\n",
    "    if \"Python\" in linea:\n",
    "        py += 1\n",
    "        if \"Spark\" in linea:\n",
    "            sp += 1\n",
    "        return True\n",
    "    if \"Spark\" in linea:\n",
    "        sp += 1\n",
    "        return True\n",
    "    else:\n",
    "        return False\n",
    "\n",
    "valores = lines.filter(lenguajes)"
   ]
  },
  {
   "cell_type": "code",
   "execution_count": 4,
   "id": "ba7c75ae",
   "metadata": {},
   "outputs": [
    {
     "data": {
      "text/plain": [
       "37"
      ]
     },
     "execution_count": 4,
     "metadata": {},
     "output_type": "execute_result"
    }
   ],
   "source": [
    "valores.count()"
   ]
  },
  {
   "cell_type": "code",
   "execution_count": 5,
   "id": "7ac67e1f",
   "metadata": {},
   "outputs": [
    {
     "data": {
      "text/plain": [
       "Accumulator<id=0, value=2>"
      ]
     },
     "execution_count": 5,
     "metadata": {},
     "output_type": "execute_result"
    }
   ],
   "source": [
    "py"
   ]
  },
  {
   "cell_type": "code",
   "execution_count": 6,
   "id": "69e1b9c0",
   "metadata": {},
   "outputs": [
    {
     "data": {
      "text/plain": [
       "Accumulator<id=1, value=36>"
      ]
     },
     "execution_count": 6,
     "metadata": {},
     "output_type": "execute_result"
    }
   ],
   "source": [
    "sp"
   ]
  },
  {
   "cell_type": "code",
   "execution_count": 7,
   "id": "987559b1",
   "metadata": {},
   "outputs": [],
   "source": [
    "funcionmap = valores.map(lambda x: (x,1))"
   ]
  },
  {
   "cell_type": "code",
   "execution_count": 10,
   "id": "b23c35a4",
   "metadata": {},
   "outputs": [],
   "source": [
    "contarvalores = funcionmap.reduceByKey(lambda x,y: x+y)"
   ]
  },
  {
   "cell_type": "code",
   "execution_count": 11,
   "id": "cc535a65",
   "metadata": {},
   "outputs": [
    {
     "data": {
      "text/plain": [
       "33"
      ]
     },
     "execution_count": 11,
     "metadata": {},
     "output_type": "execute_result"
    }
   ],
   "source": [
    "contarvalores.count()"
   ]
  },
  {
   "cell_type": "code",
   "execution_count": 12,
   "id": "d4f38367",
   "metadata": {},
   "outputs": [
    {
     "data": {
      "text/plain": [
       "[(' «Spark News». apache.org.', 3),\n",
       " ('Apache Spark', 2),\n",
       " (' «The Apache Software Foundation Announces Apache&#8482 Spark&#8482 as a Top-Level Project». apache.org. Apache Software Foundation. 27 de febrero de 2014. Consultado el 4 de marzo de 2014.',\n",
       "  2),\n",
       " ('Spark Logo', 1),\n",
       " ('Programado en\\tScala, Java, Python, R', 1)]"
      ]
     },
     "execution_count": 12,
     "metadata": {},
     "output_type": "execute_result"
    }
   ],
   "source": [
    "contarvalores.sortBy(lambda x: x[1], ascending = False).take(5)"
   ]
  },
  {
   "cell_type": "code",
   "execution_count": 13,
   "id": "24a18e7f",
   "metadata": {},
   "outputs": [],
   "source": [
    "def lenguajes_map(x):\n",
    "    if \"Python\" in x and \"Spark\" in x:\n",
    "        return (\"Count\", (1,1))\n",
    "    elif \"Python\" in x:\n",
    "        return (\"Count\", (1,0))\n",
    "    elif \"Spark\" in x:\n",
    "        return (\"Count\", (0,1))\n",
    "    else:\n",
    "        return (\"Count\", (0,0))\n",
    "\n",
    "mapfun = lines.map(lenguajes_map)\n"
   ]
  },
  {
   "cell_type": "code",
   "execution_count": 14,
   "id": "73694b2e",
   "metadata": {},
   "outputs": [
    {
     "data": {
      "text/plain": [
       "132"
      ]
     },
     "execution_count": 14,
     "metadata": {},
     "output_type": "execute_result"
    }
   ],
   "source": [
    "mapfun.count()"
   ]
  },
  {
   "cell_type": "code",
   "execution_count": 15,
   "id": "c416ad8a",
   "metadata": {},
   "outputs": [
    {
     "data": {
      "text/plain": [
       "132"
      ]
     },
     "execution_count": 15,
     "metadata": {},
     "output_type": "execute_result"
    }
   ],
   "source": [
    "lines.count()"
   ]
  },
  {
   "cell_type": "code",
   "execution_count": 16,
   "id": "4b869fee",
   "metadata": {},
   "outputs": [
    {
     "data": {
      "text/plain": [
       "[('Count', (2, 36))]"
      ]
     },
     "execution_count": 16,
     "metadata": {},
     "output_type": "execute_result"
    }
   ],
   "source": [
    "mapfun.reduceByKey(lambda x,y: (x[0]+y[0], x[1]+y[1])).collect()"
   ]
  },
  {
   "cell_type": "code",
   "execution_count": null,
   "id": "b072cce1",
   "metadata": {},
   "outputs": [],
   "source": []
  }
 ],
 "metadata": {
  "kernelspec": {
   "display_name": "Python 3",
   "language": "python",
   "name": "python3"
  },
  "language_info": {
   "codemirror_mode": {
    "name": "ipython",
    "version": 3
   },
   "file_extension": ".py",
   "mimetype": "text/x-python",
   "name": "python",
   "nbconvert_exporter": "python",
   "pygments_lexer": "ipython3",
   "version": "3.8.8"
  }
 },
 "nbformat": 4,
 "nbformat_minor": 5
}
