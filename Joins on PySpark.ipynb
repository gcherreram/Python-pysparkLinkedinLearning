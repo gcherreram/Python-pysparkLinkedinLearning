{
 "cells": [
  {
   "cell_type": "code",
   "execution_count": 1,
   "id": "df57931a",
   "metadata": {},
   "outputs": [],
   "source": [
    "from pyspark import SparkConf, SparkContext\n",
    "conf = SparkConf().setMaster(\"local\").setAppName(\"Mi programa\")\n",
    "sc = SparkContext(conf=conf)"
   ]
  },
  {
   "cell_type": "code",
   "execution_count": 2,
   "id": "6d3f54b5",
   "metadata": {},
   "outputs": [],
   "source": [
    "x = sc.parallelize([(\"a\", 5), (\"b\", 6), (\"c\", 7), (\"d\", 8)])\n",
    "y = sc.parallelize([(\"a\", 1), (\"a\",2),(\"c\",3)])"
   ]
  },
  {
   "cell_type": "code",
   "execution_count": 3,
   "id": "4e9bddf2",
   "metadata": {},
   "outputs": [
    {
     "data": {
      "text/plain": [
       "[('c', (7, 3)), ('a', (5, 1)), ('a', (5, 2))]"
      ]
     },
     "execution_count": 3,
     "metadata": {},
     "output_type": "execute_result"
    }
   ],
   "source": [
    "x.join(y).collect()"
   ]
  },
  {
   "cell_type": "code",
   "execution_count": 4,
   "id": "799f1289",
   "metadata": {},
   "outputs": [
    {
     "data": {
      "text/plain": [
       "[('c', (3, 7)), ('a', (1, 5)), ('a', (2, 5))]"
      ]
     },
     "execution_count": 4,
     "metadata": {},
     "output_type": "execute_result"
    }
   ],
   "source": [
    "y.join(x).collect()"
   ]
  },
  {
   "cell_type": "code",
   "execution_count": 5,
   "id": "dd335b63",
   "metadata": {},
   "outputs": [
    {
     "data": {
      "text/plain": [
       "[('c', (3, 7)), ('a', (1, 5)), ('a', (2, 5))]"
      ]
     },
     "execution_count": 5,
     "metadata": {},
     "output_type": "execute_result"
    }
   ],
   "source": [
    "y.leftOuterJoin(x).collect()"
   ]
  },
  {
   "cell_type": "code",
   "execution_count": 6,
   "id": "92e55eb9",
   "metadata": {},
   "outputs": [
    {
     "data": {
      "text/plain": [
       "[('b', (6, None)),\n",
       " ('c', (7, 3)),\n",
       " ('d', (8, None)),\n",
       " ('a', (5, 1)),\n",
       " ('a', (5, 2))]"
      ]
     },
     "execution_count": 6,
     "metadata": {},
     "output_type": "execute_result"
    }
   ],
   "source": [
    "x.leftOuterJoin(y).collect()"
   ]
  },
  {
   "cell_type": "code",
   "execution_count": 7,
   "id": "7d71b7bf",
   "metadata": {},
   "outputs": [
    {
     "data": {
      "text/plain": [
       "[('c', (3, 7)),\n",
       " ('b', (None, 6)),\n",
       " ('d', (None, 8)),\n",
       " ('a', (1, 5)),\n",
       " ('a', (2, 5))]"
      ]
     },
     "execution_count": 7,
     "metadata": {},
     "output_type": "execute_result"
    }
   ],
   "source": [
    "y.rightOuterJoin(x).collect()"
   ]
  },
  {
   "cell_type": "code",
   "execution_count": null,
   "id": "0c67d0b5",
   "metadata": {},
   "outputs": [],
   "source": []
  }
 ],
 "metadata": {
  "kernelspec": {
   "display_name": "Python 3",
   "language": "python",
   "name": "python3"
  },
  "language_info": {
   "codemirror_mode": {
    "name": "ipython",
    "version": 3
   },
   "file_extension": ".py",
   "mimetype": "text/x-python",
   "name": "python",
   "nbconvert_exporter": "python",
   "pygments_lexer": "ipython3",
   "version": "3.8.8"
  }
 },
 "nbformat": 4,
 "nbformat_minor": 5
}
