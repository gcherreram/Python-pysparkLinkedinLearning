{
 "cells": [
  {
   "cell_type": "code",
   "execution_count": 7,
   "metadata": {},
   "outputs": [
    {
     "name": "stdout",
     "output_type": "stream",
     "text": [
      "write your text: message\n"
     ]
    },
    {
     "data": {
      "text/plain": [
       "[13, 31, 15, 15, 1, 11, 31]"
      ]
     },
     "execution_count": 7,
     "metadata": {},
     "output_type": "execute_result"
    }
   ],
   "source": [
    "p = 13  #13\n",
    "q = 17 #definicion de p y q #17\n",
    "n = p*q   #221\n",
    "fn = (p-1)*(q-1)  #192\n",
    "e = 5 #numero entre 1 y fn, que fn no sea divisible entre e\n",
    "d = int(((2*fn)+1)/e)\n",
    "\n",
    "#public key = n=391 and e=13\n",
    "#d is private key d=141\n",
    "\n",
    "dic = {\"a\":1, \"b\":2, \"c\":3, \"d\":4, \"e\":5, \"f\":6, \"g\":7, \"h\":8, \"i\":9, \"j\":10, \"k\":11, \"l\":12, \"m\":13, \"n\":14, \"o\":15, \"p\":16, \"q\":17, \"r\":18, \"s\":19, \"t\":20, \"u\":21, \"v\":22, \"w\":23, \"x\":24, \"y\":25, \"z\":26, \" \":27}\n",
    "    \n",
    "\n",
    "\"\"\"\n",
    "text = input(\"write your text: \")\n",
    "text_encrypt = list(text.lower())\n",
    "\n",
    "print(text_encrypt)\n",
    "\"\"\"\n",
    "\n",
    "def encrypt(text = input(\"write your text: \")):\n",
    "    text_encrypt = list(text.lower())\n",
    "    text1 = []\n",
    "    text3 = []\n",
    "    for i in text_encrypt:\n",
    "        text1.append(dic[i])\n",
    "    for j in text1:\n",
    "        text3.append((j**e)%n)\n",
    "    return text3\n",
    "        \n",
    "encrypt()\n",
    "\n",
    "\n",
    "\n",
    "\n",
    "        "
   ]
  },
  {
   "cell_type": "code",
   "execution_count": 14,
   "metadata": {},
   "outputs": [
    {
     "name": "stdout",
     "output_type": "stream",
     "text": [
      "your list to uncrypt: 13,31,15,15,1,11,31\n"
     ]
    },
    {
     "data": {
      "text/plain": [
       "(['m', 'e', 's', 's', 'a', 'g', 'e'], [13, 5, 19, 19, 1, 7, 5])"
      ]
     },
     "execution_count": 14,
     "metadata": {},
     "output_type": "execute_result"
    }
   ],
   "source": [
    "def decrypt(text4 = input(\"your list to uncrypt: \")):\n",
    "    text5 = text4.split(\",\")\n",
    "    text6 = []\n",
    "    text7 = []\n",
    "    for k in text5:\n",
    "         text6.append((int(k)**d)%n)\n",
    "    for l in text6:\n",
    "        text8 = list(dic.keys())\n",
    "        text7.append(text8[l - 1])\n",
    "    \n",
    "    return text7,text6\n",
    "\n",
    "\n",
    "decrypt()"
   ]
  },
  {
   "cell_type": "code",
   "execution_count": 38,
   "metadata": {},
   "outputs": [
    {
     "data": {
      "text/plain": [
       "50.285714285714285"
      ]
     },
     "execution_count": 38,
     "metadata": {},
     "output_type": "execute_result"
    }
   ],
   "source": [
    "(17-1)*(23-1)\n",
    "352/7"
   ]
  }
 ],
 "metadata": {
  "kernelspec": {
   "display_name": "Python 3",
   "language": "python",
   "name": "python3"
  },
  "language_info": {
   "codemirror_mode": {
    "name": "ipython",
    "version": 3
   },
   "file_extension": ".py",
   "mimetype": "text/x-python",
   "name": "python",
   "nbconvert_exporter": "python",
   "pygments_lexer": "ipython3",
   "version": "3.8.5"
  }
 },
 "nbformat": 4,
 "nbformat_minor": 5
}
