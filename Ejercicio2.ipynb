{
 "cells": [
  {
   "cell_type": "code",
   "execution_count": 1,
   "id": "6d308fc1",
   "metadata": {},
   "outputs": [],
   "source": [
    "import pandas as pd\n",
    "import numpy as np\n",
    "import matplotlib.pyplot as plt"
   ]
  },
  {
   "cell_type": "code",
   "execution_count": 2,
   "id": "e6b55c77",
   "metadata": {},
   "outputs": [],
   "source": [
    "df = pd.read_csv(\"C:/Users/Gabo0/Desktop/Jupyter Python/Ejercicios Linkedin/base_datos_2008.csv\")"
   ]
  },
  {
   "cell_type": "code",
   "execution_count": 4,
   "id": "455b3b59",
   "metadata": {},
   "outputs": [],
   "source": [
    "df = df.dropna(subset=[\"Distance\",\"ArrDelay\"])"
   ]
  },
  {
   "cell_type": "code",
   "execution_count": 5,
   "id": "1d883225",
   "metadata": {},
   "outputs": [],
   "source": [
    "df = df[df.ArrDelay > 120]"
   ]
  },
  {
   "cell_type": "code",
   "execution_count": 6,
   "id": "98897b2b",
   "metadata": {},
   "outputs": [],
   "source": [
    "df = df[df.Distance > 2000]"
   ]
  },
  {
   "cell_type": "code",
   "execution_count": 7,
   "id": "e84b2bf1",
   "metadata": {},
   "outputs": [
    {
     "name": "stderr",
     "output_type": "stream",
     "text": [
      "D:\\Programas\\Anaconda3\\lib\\site-packages\\sklearn\\cluster\\_kmeans.py:792: FutureWarning: 'n_jobs' was deprecated in version 0.23 and will be removed in 1.0 (renaming of 0.25).\n",
      "  warnings.warn(\"'n_jobs' was deprecated in version 0.23 and will be\"\n"
     ]
    },
    {
     "data": {
      "image/png": "[encoded data removed]",
      "text/plain": [
       "<Figure size 432x288 with 1 Axes>"
      ]
     },
     "metadata": {
      "needs_background": "light"
     },
     "output_type": "display_data"
    }
   ],
   "source": [
    "from sklearn.cluster import KMeans\n",
    "kmeans = KMeans(n_clusters = 6, n_jobs=-1).fit(df[[\"ArrDelay\",\"Distance\"]])\n",
    "plt.scatter(df[\"ArrDelay\"],df[\"Distance\"],c = kmeans.labels_)\n",
    "plt.xlabel(\"Retraso\")\n",
    "plt.ylabel(\"Distance\")\n",
    "plt.show()"
   ]
  },
  {
   "cell_type": "code",
   "execution_count": 8,
   "id": "bb6c2877",
   "metadata": {},
   "outputs": [
    {
     "data": {
      "text/plain": [
       "array([[ 184.06769355, 2179.72355087],\n",
       "       [ 253.30487805, 3660.53658537],\n",
       "       [ 195.5923913 , 2632.69466403],\n",
       "       [ 248.84210526, 4549.46052632],\n",
       "       [ 683.4382716 , 2490.41358025],\n",
       "       [ 191.20530252, 2435.46430999]])"
      ]
     },
     "execution_count": 8,
     "metadata": {},
     "output_type": "execute_result"
    }
   ],
   "source": [
    "kmeans.cluster_centers_"
   ]
  },
  {
   "cell_type": "code",
   "execution_count": 9,
   "id": "27d136f1",
   "metadata": {},
   "outputs": [],
   "source": [
    "df[\"Group\"]=kmeans.labels_"
   ]
  },
  {
   "cell_type": "code",
   "execution_count": 10,
   "id": "4a60e879",
   "metadata": {},
   "outputs": [],
   "source": [
    "dfgroup = df[df[\"Group\"] == 5]"
   ]
  },
  {
   "cell_type": "code",
   "execution_count": 11,
   "id": "090d1724",
   "metadata": {
    "scrolled": false
   },
   "outputs": [
    {
     "data": {
      "text/html": [
       "<div>\n",
       "<style scoped>\n",
       "    .dataframe tbody tr th:only-of-type {\n",
       "        vertical-align: middle;\n",
       "    }\n",
       "\n",
       "    .dataframe tbody tr th {\n",
       "        vertical-align: top;\n",
       "    }\n",
       "\n",
       "    .dataframe thead th {\n",
       "        text-align: right;\n",
       "    }\n",
       "</style>\n",
       "<table border=\"1\" class=\"dataframe\">\n",
       "  <thead>\n",
       "    <tr style=\"text-align: right;\">\n",
       "      <th></th>\n",
       "      <th>count</th>\n",
       "      <th>mean</th>\n",
       "      <th>std</th>\n",
       "      <th>min</th>\n",
       "      <th>25%</th>\n",
       "      <th>50%</th>\n",
       "      <th>75%</th>\n",
       "      <th>max</th>\n",
       "    </tr>\n",
       "    <tr>\n",
       "      <th>DayOfWeek</th>\n",
       "      <th></th>\n",
       "      <th></th>\n",
       "      <th></th>\n",
       "      <th></th>\n",
       "      <th></th>\n",
       "      <th></th>\n",
       "      <th></th>\n",
       "      <th></th>\n",
       "    </tr>\n",
       "  </thead>\n",
       "  <tbody>\n",
       "    <tr>\n",
       "      <th>1</th>\n",
       "      <td>370.0</td>\n",
       "      <td>182.659459</td>\n",
       "      <td>78.711078</td>\n",
       "      <td>-4.0</td>\n",
       "      <td>137.0</td>\n",
       "      <td>170.0</td>\n",
       "      <td>216.00</td>\n",
       "      <td>442.0</td>\n",
       "    </tr>\n",
       "    <tr>\n",
       "      <th>2</th>\n",
       "      <td>333.0</td>\n",
       "      <td>150.708709</td>\n",
       "      <td>84.312399</td>\n",
       "      <td>-9.0</td>\n",
       "      <td>108.0</td>\n",
       "      <td>155.0</td>\n",
       "      <td>199.00</td>\n",
       "      <td>376.0</td>\n",
       "    </tr>\n",
       "    <tr>\n",
       "      <th>3</th>\n",
       "      <td>402.0</td>\n",
       "      <td>170.776119</td>\n",
       "      <td>84.686540</td>\n",
       "      <td>-8.0</td>\n",
       "      <td>123.0</td>\n",
       "      <td>159.0</td>\n",
       "      <td>211.75</td>\n",
       "      <td>472.0</td>\n",
       "    </tr>\n",
       "    <tr>\n",
       "      <th>4</th>\n",
       "      <td>372.0</td>\n",
       "      <td>172.206989</td>\n",
       "      <td>80.802729</td>\n",
       "      <td>-6.0</td>\n",
       "      <td>126.0</td>\n",
       "      <td>159.0</td>\n",
       "      <td>216.25</td>\n",
       "      <td>455.0</td>\n",
       "    </tr>\n",
       "    <tr>\n",
       "      <th>5</th>\n",
       "      <td>500.0</td>\n",
       "      <td>176.454000</td>\n",
       "      <td>80.806009</td>\n",
       "      <td>-3.0</td>\n",
       "      <td>127.0</td>\n",
       "      <td>164.0</td>\n",
       "      <td>213.00</td>\n",
       "      <td>422.0</td>\n",
       "    </tr>\n",
       "    <tr>\n",
       "      <th>6</th>\n",
       "      <td>417.0</td>\n",
       "      <td>179.107914</td>\n",
       "      <td>78.268309</td>\n",
       "      <td>-6.0</td>\n",
       "      <td>137.0</td>\n",
       "      <td>170.0</td>\n",
       "      <td>214.00</td>\n",
       "      <td>439.0</td>\n",
       "    </tr>\n",
       "    <tr>\n",
       "      <th>7</th>\n",
       "      <td>548.0</td>\n",
       "      <td>170.583942</td>\n",
       "      <td>87.315909</td>\n",
       "      <td>-8.0</td>\n",
       "      <td>119.0</td>\n",
       "      <td>163.0</td>\n",
       "      <td>214.75</td>\n",
       "      <td>444.0</td>\n",
       "    </tr>\n",
       "  </tbody>\n",
       "</table>\n",
       "</div>"
      ],
      "text/plain": [
       "           count        mean        std  min    25%    50%     75%    max\n",
       "DayOfWeek                                                                \n",
       "1          370.0  182.659459  78.711078 -4.0  137.0  170.0  216.00  442.0\n",
       "2          333.0  150.708709  84.312399 -9.0  108.0  155.0  199.00  376.0\n",
       "3          402.0  170.776119  84.686540 -8.0  123.0  159.0  211.75  472.0\n",
       "4          372.0  172.206989  80.802729 -6.0  126.0  159.0  216.25  455.0\n",
       "5          500.0  176.454000  80.806009 -3.0  127.0  164.0  213.00  422.0\n",
       "6          417.0  179.107914  78.268309 -6.0  137.0  170.0  214.00  439.0\n",
       "7          548.0  170.583942  87.315909 -8.0  119.0  163.0  214.75  444.0"
      ]
     },
     "execution_count": 11,
     "metadata": {},
     "output_type": "execute_result"
    }
   ],
   "source": [
    "dfgroup.groupby([\"DayOfWeek\"])[\"DepDelay\"].describe()"
   ]
  },
  {
   "cell_type": "markdown",
   "id": "8091c995",
   "metadata": {},
   "source": [
    "# MODELIZACIÓN"
   ]
  },
  {
   "cell_type": "code",
   "execution_count": 12,
   "id": "bc7b758c",
   "metadata": {},
   "outputs": [
    {
     "data": {
      "text/plain": [
       "Index(['Year', 'Month', 'DayofMonth', 'DayOfWeek', 'DepTime', 'CRSDepTime',\n",
       "       'ArrTime', 'CRSArrTime', 'UniqueCarrier', 'FlightNum', 'TailNum',\n",
       "       'ActualElapsedTime', 'CRSElapsedTime', 'AirTime', 'ArrDelay',\n",
       "       'DepDelay', 'Origin', 'Dest', 'Distance', 'TaxiIn', 'TaxiOut',\n",
       "       'Cancelled', 'CancellationCode', 'Diverted', 'CarrierDelay',\n",
       "       'WeatherDelay', 'NASDelay', 'SecurityDelay', 'LateAircraftDelay',\n",
       "       'Group'],\n",
       "      dtype='object')"
      ]
     },
     "execution_count": 12,
     "metadata": {},
     "output_type": "execute_result"
    }
   ],
   "source": [
    "dfgroup.columns"
   ]
  },
  {
   "cell_type": "code",
   "execution_count": 14,
   "id": "803f03e3",
   "metadata": {},
   "outputs": [
    {
     "name": "stderr",
     "output_type": "stream",
     "text": [
      "<ipython-input-14-1ffae2359d02>:1: SettingWithCopyWarning: \n",
      "A value is trying to be set on a copy of a slice from a DataFrame.\n",
      "Try using .loc[row_indexer,col_indexer] = value instead\n",
      "\n",
      "See the caveats in the documentation: https://pandas.pydata.org/pandas-docs/stable/user_guide/indexing.html#returning-a-view-versus-a-copy\n",
      "  dfgroup[\"Month\"] = dfgroup[\"Month\"].apply(str)\n",
      "<ipython-input-14-1ffae2359d02>:2: SettingWithCopyWarning: \n",
      "A value is trying to be set on a copy of a slice from a DataFrame.\n",
      "Try using .loc[row_indexer,col_indexer] = value instead\n",
      "\n",
      "See the caveats in the documentation: https://pandas.pydata.org/pandas-docs/stable/user_guide/indexing.html#returning-a-view-versus-a-copy\n",
      "  dfgroup[\"DayofMonth\"] = dfgroup[\"DayofMonth\"].apply(str)\n",
      "<ipython-input-14-1ffae2359d02>:3: SettingWithCopyWarning: \n",
      "A value is trying to be set on a copy of a slice from a DataFrame.\n",
      "Try using .loc[row_indexer,col_indexer] = value instead\n",
      "\n",
      "See the caveats in the documentation: https://pandas.pydata.org/pandas-docs/stable/user_guide/indexing.html#returning-a-view-versus-a-copy\n",
      "  dfgroup[\"DayofWeek\"] = dfgroup[\"DayOfWeek\"].apply(str)\n"
     ]
    }
   ],
   "source": [
    "dfgroup[\"Month\"] = dfgroup[\"Month\"].apply(str)\n",
    "dfgroup[\"DayofMonth\"] = dfgroup[\"DayofMonth\"].apply(str)\n",
    "dfgroup[\"DayofWeek\"] = dfgroup[\"DayOfWeek\"].apply(str)\n",
    "\n",
    "x = pd.get_dummies(dfgroup[['Month','DayofMonth','DayOfWeek','UniqueCarrier','Origin','Dest']])\n",
    "\n",
    "x = x.add(dfgroup[['TaxiIn','TaxiOut','DepTime']], fill_value=0)"
   ]
  },
  {
   "cell_type": "code",
   "execution_count": 15,
   "id": "0265d6ab",
   "metadata": {},
   "outputs": [],
   "source": [
    "from sklearn.ensemble import RandomForestRegressor\n",
    "\n",
    "clf = RandomForestRegressor(n_estimators=1000,n_jobs=-1).fit(x,dfgroup[\"ArrDelay\"])\n",
    "importance = clf.feature_importances_"
   ]
  },
  {
   "cell_type": "code",
   "execution_count": 16,
   "id": "be72fd7e",
   "metadata": {},
   "outputs": [
    {
     "data": {
      "text/plain": [
       "array([3.73720903e-02, 4.37145232e-03, 6.52894109e-03, 2.60630015e-03,\n",
       "       4.99016146e-03, 4.36991801e-03, 8.55463484e-03, 2.55175606e-03,\n",
       "       3.16764964e-03, 5.47549988e-03, 3.82094010e-03, 4.47324885e-03,\n",
       "       4.51816390e-03, 4.64431265e-03, 6.52887183e-03, 5.30091013e-03,\n",
       "       6.29448772e-03, 6.76752178e-03, 5.25610926e-03, 2.61806477e-03,\n",
       "       7.65911688e-03, 8.63025845e-03, 2.39738300e-03, 1.49239601e-03,\n",
       "       2.82072287e-03, 1.51650286e-03, 7.67798217e-03, 5.36585368e-03,\n",
       "       4.33225600e-03, 4.43584397e-03, 4.22665459e-03, 2.93789093e-03,\n",
       "       2.24312637e-01, 4.79160568e-04, 3.97420081e-05, 2.71163859e-03,\n",
       "       2.45052213e-03, 1.92927031e-03, 5.06336458e-03, 1.39266870e-04,\n",
       "       4.27547062e-03, 2.27769545e-03, 4.83430719e-05, 5.36553197e-03,\n",
       "       5.68466368e-03, 1.03124069e-02, 6.31098821e-03, 3.39130871e-03,\n",
       "       2.29937906e-02, 1.35114481e-03, 3.16270966e-03, 3.95487387e-04,\n",
       "       2.29084017e-04, 2.02556126e-03, 4.25511953e-03, 1.15128995e-03,\n",
       "       1.02628685e-02, 1.32777039e-04, 2.50468346e-03, 7.87562121e-03,\n",
       "       5.87672232e-05, 8.53371992e-03, 7.49075720e-03, 6.57830372e-03,\n",
       "       2.09879141e-04, 1.63833849e-03, 1.26571436e-04, 6.45136260e-03,\n",
       "       4.65053660e-03, 4.42002298e-03, 1.18793382e-02, 6.00543217e-03,\n",
       "       3.83492573e-03, 6.03246385e-03, 5.72331664e-03, 9.39555370e-03,\n",
       "       8.11949767e-03, 8.61882972e-03, 3.98205569e-03, 6.74171483e-04,\n",
       "       1.63576199e-03, 2.75046359e-03, 4.23099937e-03, 1.98608479e-03,\n",
       "       4.53634903e-04, 4.21414695e-05, 1.70651888e-02, 3.08232777e-03,\n",
       "       3.86090075e-03, 5.23833472e-03, 3.59337865e-03, 1.73768775e-02,\n",
       "       4.95206778e-03, 1.73225404e-03, 1.30236392e-02, 9.98116276e-04,\n",
       "       1.27258631e-03, 2.41378736e-04, 8.27799577e-05, 2.83142037e-03,\n",
       "       8.76880119e-04, 5.38006212e-04, 3.78879896e-03, 7.58987295e-05,\n",
       "       4.86669879e-03, 1.06659664e-02, 5.95766073e-05, 5.88735199e-03,\n",
       "       3.12118942e-03, 6.01731973e-03, 1.05639781e-03, 1.69261614e-03,\n",
       "       1.90890998e-03, 6.66084186e-02, 1.31051010e-01, 1.33736270e-02,\n",
       "       5.19491194e-05, 5.49838036e-03, 6.82367248e-03, 5.38921564e-03,\n",
       "       5.83321174e-03, 1.96891019e-05, 5.50537168e-04, 1.17979522e-03,\n",
       "       1.26309396e-03, 1.00562784e-02, 5.56267884e-03, 4.72606775e-04])"
      ]
     },
     "execution_count": 16,
     "metadata": {},
     "output_type": "execute_result"
    }
   ],
   "source": [
    "importance"
   ]
  },
  {
   "cell_type": "code",
   "execution_count": 17,
   "id": "d349fafd",
   "metadata": {},
   "outputs": [
    {
     "data": {
      "text/plain": [
       "Index(['DepTime'], dtype='object')"
      ]
     },
     "execution_count": 17,
     "metadata": {},
     "output_type": "execute_result"
    }
   ],
   "source": [
    "x.columns[importance == max(importance)]"
   ]
  },
  {
   "cell_type": "code",
   "execution_count": 19,
   "id": "9e37f1fc",
   "metadata": {},
   "outputs": [
    {
     "data": {
      "text/plain": [
       "array([[1.        , 0.03934702],\n",
       "       [0.03934702, 1.        ]])"
      ]
     },
     "execution_count": 19,
     "metadata": {},
     "output_type": "execute_result"
    }
   ],
   "source": [
    "np.corrcoef(dfgroup[\"DepTime\"], dfgroup[\"ArrDelay\"])"
   ]
  },
  {
   "cell_type": "code",
   "execution_count": null,
   "id": "a37f38e1",
   "metadata": {},
   "outputs": [],
   "source": []
  }
 ],
 "metadata": {
  "kernelspec": {
   "display_name": "Python 3",
   "language": "python",
   "name": "python3"
  },
  "language_info": {
   "codemirror_mode": {
    "name": "ipython",
    "version": 3
   },
   "file_extension": ".py",
   "mimetype": "text/x-python",
   "name": "python",
   "nbconvert_exporter": "python",
   "pygments_lexer": "ipython3",
   "version": "3.8.8"
  }
 },
 "nbformat": 4,
 "nbformat_minor": 5
}
