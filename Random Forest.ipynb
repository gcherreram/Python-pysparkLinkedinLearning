{
 "cells": [
  {
   "cell_type": "code",
   "execution_count": 2,
   "metadata": {},
   "outputs": [],
   "source": [
    "from sklearn import tree\n",
    "import numpy as np\n",
    "import pandas as pd\n",
    "from sklearn.ensemble import RandomForestClassifier\n",
    "\n",
    "df = pd.read_csv(\"C:/Users/Gabo0/Desktop/Jupyter Python/Ejercicios Linkedin/base_datos_2008.csv\")\n",
    "df = df.dropna(subset=[\"ArrDelay\"]) #Elimina los casos faltante\n",
    "df = df.sample(frac=1) #mezclamos la base de datos\n",
    "dftest = df.tail(500000) #Test\n",
    "df = df.head(500000) #Training"
   ]
  },
  {
   "cell_type": "code",
   "execution_count": 5,
   "metadata": {},
   "outputs": [],
   "source": [
    "clf = tree.DecisionTreeClassifier()\n",
    "\n",
    "X = df[[\"Distance\",\"AirTime\",'DepTime','TaxiIn','TaxiOut','DepDelay']] #Variables que usamos como regresores\n",
    "X_test = dftest[[\"Distance\",\"AirTime\",'DepTime','TaxiIn','TaxiOut','DepDelay']]\n",
    "Y = df[\"ArrDelay\"] > 10 # variable respuesta\n",
    "Y_test = dftest[\"ArrDelay\"] > 10\n",
    "\n",
    "clf = clf.fit(X,Y)\n",
    "Y_pred_test = clf.predict(X_test)"
   ]
  },
  {
   "cell_type": "code",
   "execution_count": 6,
   "metadata": {},
   "outputs": [
    {
     "data": {
      "text/plain": [
       "0.893522"
      ]
     },
     "execution_count": 6,
     "metadata": {},
     "output_type": "execute_result"
    }
   ],
   "source": [
    "np.mean(Y_test == Y_pred_test) # Aquí medimos el potencial predictivo que tiene el modelo\n",
    "# este resultado se va a comparar con el número que nos genere el randomforest"
   ]
  },
  {
   "cell_type": "code",
   "execution_count": 7,
   "metadata": {},
   "outputs": [
    {
     "data": {
      "text/plain": [
       "array([0.09195648, 0.08117461, 0.08117825, 0.05100456, 0.13313802,\n",
       "       0.56154808])"
      ]
     },
     "execution_count": 7,
     "metadata": {},
     "output_type": "execute_result"
    }
   ],
   "source": [
    "clf = RandomForestClassifier(n_estimators = 100,n_jobs =-1)\n",
    "clf.fit(X,Y)\n",
    "Y_pred_test = clf.predict(X_test)\n",
    "\n",
    "clf.feature_importances_\n",
    "#n_estimators / max_features / bootstrap / n_jobs\n",
    "# Lo que se hace aquí es solicitar que se creen 100 arboles"
   ]
  },
  {
   "cell_type": "code",
   "execution_count": 8,
   "metadata": {},
   "outputs": [
    {
     "data": {
      "text/plain": [
       "0.923464"
      ]
     },
     "execution_count": 8,
     "metadata": {},
     "output_type": "execute_result"
    }
   ],
   "source": [
    "np.mean(Y_test == Y_pred_test)"
   ]
  },
  {
   "cell_type": "code",
   "execution_count": null,
   "metadata": {},
   "outputs": [],
   "source": []
  }
 ],
 "metadata": {
  "kernelspec": {
   "display_name": "Python 3",
   "language": "python",
   "name": "python3"
  },
  "language_info": {
   "codemirror_mode": {
    "name": "ipython",
    "version": 3
   },
   "file_extension": ".py",
   "mimetype": "text/x-python",
   "name": "python",
   "nbconvert_exporter": "python",
   "pygments_lexer": "ipython3",
   "version": "3.8.5"
  }
 },
 "nbformat": 4,
 "nbformat_minor": 4
}
