{
 "cells": [
  {
   "cell_type": "code",
   "execution_count": 1,
   "id": "89b15527",
   "metadata": {},
   "outputs": [],
   "source": [
    "from pyspark import SparkConf, SparkContext\n",
    "from pyspark.sql.types import StringType\n",
    "from pyspark import SQLContext\n",
    "import numpy as np\n",
    "\n",
    "conf = SparkConf().setMaster(\"local\").setAppName(\"Mi programa\")\n",
    "sc = SparkContext(conf=conf)\n",
    "sqlContext = SQLContext(sc)\n",
    "\n",
    "dfspark = sqlContext.read.format(\"csv\").option(\"header\", \"true\").option(\"inferSchema\",\"true\").load(\"C:/Users/Gabo0/Desktop/Jupyter Python/Ejercicios Linkedin/base_datos_2008.csv\")\n",
    "dfspark = dfspark.sample(fraction = 0.001, withReplacement=False)\n",
    "dfspark = dfspark.withColumn(\"ArrDelay\",dfspark[\"ArrDelay\"].cast(\"integer\"))\n",
    "\n",
    "df2 = dfspark.na.drop(subset=['ArrDelay','DepDelay','Distance'])\n",
    "df2 = df2.filter(\"ArrDelay is not NULL\")\n",
    "df2 = df2.dropDuplicates()"
   ]
  },
  {
   "cell_type": "code",
   "execution_count": 2,
   "id": "849251f7",
   "metadata": {},
   "outputs": [
    {
     "data": {
      "text/plain": [
       "[Row(ArrDelay=114),\n",
       " Row(ArrDelay=191),\n",
       " Row(ArrDelay=146),\n",
       " Row(ArrDelay=95),\n",
       " Row(ArrDelay=62)]"
      ]
     },
     "execution_count": 2,
     "metadata": {},
     "output_type": "execute_result"
    }
   ],
   "source": [
    "# (select)Selecciona los valores donde ArrDelay es > 60\n",
    "df2.select(\"ArrDelay\").filter(\"ArrDelay > 60\").take(5)"
   ]
  },
  {
   "cell_type": "code",
   "execution_count": 3,
   "id": "2f29e4de",
   "metadata": {},
   "outputs": [
    {
     "data": {
      "text/plain": [
       "[Row(Year=2008, Month=6, DayofMonth=23, DayOfWeek=1, DepTime='1204', CRSDepTime=1023, ArrTime='1323', CRSArrTime=1129, UniqueCarrier='OO', FlightNum=5494, TailNum='N560SW', ActualElapsedTime='79', CRSElapsedTime='66', AirTime='41', ArrDelay=114, DepDelay='101', Origin='SFO', Dest='RDD', Distance=199, TaxiIn='11', TaxiOut='27', Cancelled=0, CancellationCode=None, Diverted=0, CarrierDelay='0', WeatherDelay='0', NASDelay='13', SecurityDelay='0', LateAircraftDelay='101'),\n",
       " Row(Year=2008, Month=1, DayofMonth=31, DayOfWeek=4, DepTime='1152', CRSDepTime=900, ArrTime='1811', CRSArrTime=1500, UniqueCarrier='AA', FlightNum=1238, TailNum='N549AA', ActualElapsedTime='259', CRSElapsedTime='240', AirTime='225', ArrDelay=191, DepDelay='172', Origin='SEA', Dest='ORD', Distance=1721, TaxiIn='13', TaxiOut='21', Cancelled=0, CancellationCode=None, Diverted=0, CarrierDelay='0', WeatherDelay='0', NASDelay='191', SecurityDelay='0', LateAircraftDelay='0'),\n",
       " Row(Year=2008, Month=2, DayofMonth=19, DayOfWeek=2, DepTime='1317', CRSDepTime=1025, ArrTime='1727', CRSArrTime=1501, UniqueCarrier='CO', FlightNum=730, TailNum='N16647', ActualElapsedTime='190', CRSElapsedTime='216', AirTime='163', ArrDelay=146, DepDelay='172', Origin='IAH', Dest='JFK', Distance=1417, TaxiIn='8', TaxiOut='19', Cancelled=0, CancellationCode=None, Diverted=0, CarrierDelay='146', WeatherDelay='0', NASDelay='0', SecurityDelay='0', LateAircraftDelay='0'),\n",
       " Row(Year=2008, Month=4, DayofMonth=16, DayOfWeek=3, DepTime='1555', CRSDepTime=1411, ArrTime='1640', CRSArrTime=1505, UniqueCarrier='YV', FlightNum=7208, TailNum='N511MJ', ActualElapsedTime='45', CRSElapsedTime='54', AirTime='23', ArrDelay=95, DepDelay='104', Origin='MSN', Dest='ORD', Distance=109, TaxiIn='6', TaxiOut='16', Cancelled=0, CancellationCode=None, Diverted=0, CarrierDelay='0', WeatherDelay='0', NASDelay='95', SecurityDelay='0', LateAircraftDelay='0'),\n",
       " Row(Year=2008, Month=12, DayofMonth=23, DayOfWeek=2, DepTime='917', CRSDepTime=820, ArrTime='1122', CRSArrTime=1020, UniqueCarrier='OO', FlightNum=4836, TailNum='N453SW', ActualElapsedTime='125', CRSElapsedTime='120', AirTime='95', ArrDelay=62, DepDelay='57', Origin='TUS', Dest='SLC', Distance=601, TaxiIn='9', TaxiOut='21', Cancelled=0, CancellationCode=None, Diverted=0, CarrierDelay='57', WeatherDelay='0', NASDelay='5', SecurityDelay='0', LateAircraftDelay='0')]"
      ]
     },
     "execution_count": 3,
     "metadata": {},
     "output_type": "execute_result"
    }
   ],
   "source": [
    "# Devuelve toda la información de la fila donde ArrDelay cumple la condición\n",
    "df2.filter(\"ArrDelay > 60\").take(5)"
   ]
  },
  {
   "cell_type": "code",
   "execution_count": 4,
   "id": "a0385d87",
   "metadata": {},
   "outputs": [
    {
     "data": {
      "text/plain": [
       "[array([5.32810841]),\n",
       " array([187.46348216]),\n",
       " array([372.8092738]),\n",
       " array([215.84694302]),\n",
       " array([106.26042153]),\n",
       " array([858.97466521]),\n",
       " array([335.19273466]),\n",
       " array([69.02734325]),\n",
       " array([640.50850864]),\n",
       " array([980.20774349])]"
      ]
     },
     "execution_count": 4,
     "metadata": {},
     "output_type": "execute_result"
    }
   ],
   "source": [
    "media = np.mean(df2.select('ArrDelay').collect())\n",
    "# para aplicar una función a una columna se debe hacer con .rdd.map\n",
    "df2.select(\"ArrDelay\").rdd.map(lambda x: (x - media)**2).take(10)"
   ]
  },
  {
   "cell_type": "code",
   "execution_count": 5,
   "id": "34ff3b0d",
   "metadata": {},
   "outputs": [
    {
     "name": "stdout",
     "output_type": "stream",
     "text": [
      "+---------+-----+\n",
      "|DayOfWeek|count|\n",
      "+---------+-----+\n",
      "|        1|  977|\n",
      "|        6|  817|\n",
      "|        3| 1018|\n",
      "|        5| 1006|\n",
      "|        4| 1051|\n",
      "|        7|  961|\n",
      "|        2|  966|\n",
      "+---------+-----+\n",
      "\n"
     ]
    }
   ],
   "source": [
    "# la columna que queremos mas la función descriptiva\n",
    "df2.groupby(\"DayOfWeek\").count().show()"
   ]
  },
  {
   "cell_type": "code",
   "execution_count": 6,
   "id": "b6a68319",
   "metadata": {},
   "outputs": [
    {
     "name": "stdout",
     "output_type": "stream",
     "text": [
      "+---------+------------------+\n",
      "|DayOfWeek|     avg(ArrDelay)|\n",
      "+---------+------------------+\n",
      "|        1| 6.487205731832139|\n",
      "|        6| 5.657282741738066|\n",
      "|        3| 5.944007858546169|\n",
      "|        5|12.294234592445328|\n",
      "|        4| 7.799238820171265|\n",
      "|        7|  8.76690946930281|\n",
      "|        2|10.830227743271221|\n",
      "+---------+------------------+\n",
      "\n"
     ]
    }
   ],
   "source": [
    "# Resumen, columna que queremos y la media ejemplo\n",
    "df2.groupBy(\"DayOfWeek\").mean(\"ArrDelay\").show()"
   ]
  },
  {
   "cell_type": "code",
   "execution_count": 7,
   "id": "40be1252",
   "metadata": {},
   "outputs": [
    {
     "data": {
      "text/plain": [
       "[Row(Origin='PIT'),\n",
       " Row(Origin='FSM'),\n",
       " Row(Origin='SMF'),\n",
       " Row(Origin='SPI'),\n",
       " Row(Origin='CWA')]"
      ]
     },
     "execution_count": 7,
     "metadata": {},
     "output_type": "execute_result"
    }
   ],
   "source": [
    "#Ver todos los origenes distintos que queremos ver\n",
    "# en nuestra base de datos\n",
    "df2.select(\"Origin\").rdd.distinct().take(5)"
   ]
  },
  {
   "cell_type": "code",
   "execution_count": 8,
   "id": "9cf22a1d",
   "metadata": {},
   "outputs": [
    {
     "data": {
      "text/plain": [
       "253"
      ]
     },
     "execution_count": 8,
     "metadata": {},
     "output_type": "execute_result"
    }
   ],
   "source": [
    "df2.select(\"Origin\").rdd.distinct().count()"
   ]
  },
  {
   "cell_type": "code",
   "execution_count": null,
   "id": "5780cb22",
   "metadata": {},
   "outputs": [],
   "source": [
    "df2.orderBy(df2.ArrDelay.desc()).take(5)"
   ]
  }
 ],
 "metadata": {
  "kernelspec": {
   "display_name": "Python 3",
   "language": "python",
   "name": "python3"
  },
  "language_info": {
   "codemirror_mode": {
    "name": "ipython",
    "version": 3
   },
   "file_extension": ".py",
   "mimetype": "text/x-python",
   "name": "python",
   "nbconvert_exporter": "python",
   "pygments_lexer": "ipython3",
   "version": "3.8.8"
  }
 },
 "nbformat": 4,
 "nbformat_minor": 5
}
