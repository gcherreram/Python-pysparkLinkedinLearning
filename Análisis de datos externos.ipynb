{
 "cells": [
  {
   "cell_type": "code",
   "execution_count": 1,
   "metadata": {},
   "outputs": [],
   "source": [
    "import numpy as np\n",
    "import pandas as pd\n",
    "df = pd.read_csv(\"C:/Users/Gabo0/Desktop/Jupyter Python/Ejercicios Linkedin/base_datos_2008.csv\", nrows=100000)"
   ]
  },
  {
   "cell_type": "markdown",
   "metadata": {},
   "source": [
    "Como identificar outliers (valores muy muy grandes o  muy muy pequeños)"
   ]
  },
  {
   "cell_type": "code",
   "execution_count": 2,
   "metadata": {},
   "outputs": [],
   "source": [
    "x = df[\"ArrDelay\"].dropna()"
   ]
  },
  {
   "cell_type": "code",
   "execution_count": 3,
   "metadata": {},
   "outputs": [],
   "source": [
    "Q1 = np.percentile(x,25)\n",
    "Q3 = np.percentile(x,75)\n",
    "rangointer = Q3-Q1"
   ]
  },
  {
   "cell_type": "code",
   "execution_count": 4,
   "metadata": {},
   "outputs": [],
   "source": [
    "umbralsuperior = Q3 + 1.5*rangointer\n",
    "umbralinferior = Q1 -1.5*rangointer"
   ]
  },
  {
   "cell_type": "code",
   "execution_count": 5,
   "metadata": {},
   "outputs": [
    {
     "data": {
      "text/plain": [
       "38.5"
      ]
     },
     "execution_count": 5,
     "metadata": {},
     "output_type": "execute_result"
    }
   ],
   "source": [
    "umbralsuperior"
   ]
  },
  {
   "cell_type": "code",
   "execution_count": 6,
   "metadata": {},
   "outputs": [
    {
     "data": {
      "text/plain": [
       "-37.5"
      ]
     },
     "execution_count": 6,
     "metadata": {},
     "output_type": "execute_result"
    }
   ],
   "source": [
    "umbralinferior"
   ]
  },
  {
   "cell_type": "markdown",
   "metadata": {},
   "source": [
    "Ver cuantos valores estan por encima de mi umbral superior (en porcentaje)"
   ]
  },
  {
   "cell_type": "code",
   "execution_count": 7,
   "metadata": {},
   "outputs": [
    {
     "data": {
      "text/plain": [
       "0.08387201361729721"
      ]
     },
     "execution_count": 7,
     "metadata": {},
     "output_type": "execute_result"
    }
   ],
   "source": [
    "np.mean(x > umbralsuperior)"
   ]
  },
  {
   "cell_type": "code",
   "execution_count": 8,
   "metadata": {},
   "outputs": [
    {
     "data": {
      "text/plain": [
       "0.0019048005025431114"
      ]
     },
     "execution_count": 8,
     "metadata": {},
     "output_type": "execute_result"
    }
   ],
   "source": [
    "np.mean(x<umbralinferior)"
   ]
  },
  {
   "cell_type": "markdown",
   "metadata": {},
   "source": [
    "Como estudiar varias variables a la vez"
   ]
  },
  {
   "cell_type": "code",
   "execution_count": 9,
   "metadata": {},
   "outputs": [],
   "source": [
    "from sklearn.covariance import EllipticEnvelope"
   ]
  },
  {
   "cell_type": "code",
   "execution_count": 10,
   "metadata": {},
   "outputs": [],
   "source": [
    "outliers = EllipticEnvelope(contamination = .01)"
   ]
  },
  {
   "cell_type": "code",
   "execution_count": 11,
   "metadata": {},
   "outputs": [],
   "source": [
    "var_list=[\"DepDelay\",\"TaxiIn\",\"TaxiOut\",\"CarrierDelay\",\"WeatherDelay\",\"NASDelay\",\"SecurityDelay\",\"LateAircraftDelay\"]"
   ]
  },
  {
   "cell_type": "code",
   "execution_count": 13,
   "metadata": {},
   "outputs": [],
   "source": [
    "x = np.array(df.loc[:,var_list].dropna())"
   ]
  },
  {
   "cell_type": "code",
   "execution_count": 14,
   "metadata": {},
   "outputs": [
    {
     "data": {
      "text/plain": [
       "EllipticEnvelope(contamination=0.01)"
      ]
     },
     "execution_count": 14,
     "metadata": {},
     "output_type": "execute_result"
    }
   ],
   "source": [
    "outliers.fit(x)"
   ]
  },
  {
   "cell_type": "code",
   "execution_count": 15,
   "metadata": {},
   "outputs": [],
   "source": [
    "pred = outliers.predict(x)"
   ]
  },
  {
   "cell_type": "code",
   "execution_count": 16,
   "metadata": {},
   "outputs": [
    {
     "data": {
      "text/plain": [
       "array([1, 1, 1, ..., 1, 1, 1])"
      ]
     },
     "execution_count": 16,
     "metadata": {},
     "output_type": "execute_result"
    }
   ],
   "source": [
    "pred"
   ]
  },
  {
   "cell_type": "code",
   "execution_count": 17,
   "metadata": {},
   "outputs": [],
   "source": [
    "elips_outliers = np.where(pred == -1)[0]"
   ]
  },
  {
   "cell_type": "code",
   "execution_count": 18,
   "metadata": {},
   "outputs": [
    {
     "data": {
      "text/plain": [
       "array([  132,   133,   202,   205,   818,   823,  1347,  1428,  1636,\n",
       "        1681,  1843,  1958,  1968,  2255,  3008,  3010,  3897,  4259,\n",
       "        4430,  4439,  4466,  4512,  4662,  4818,  4924,  4925,  5138,\n",
       "        5140,  5160,  5162,  5229,  5230,  5331,  5555,  5577,  5938,\n",
       "        6112,  6543,  6544,  7299,  7677,  7679,  7711,  8153,  8238,\n",
       "        8279,  8482,  8483,  8567,  8618,  8792,  8806,  8819,  9508,\n",
       "        9565, 10250, 10604, 10609, 10677, 10678, 10680, 10693, 10817,\n",
       "       10818, 11022, 11099, 11100, 11102, 11105, 11529, 11635, 11897,\n",
       "       11910, 11922, 12248, 12261, 12331, 13274, 13278, 13333, 13334,\n",
       "       13335, 13336, 13337, 13338, 13722, 13723, 13726, 13727, 14257,\n",
       "       14261, 14270, 14327, 14330, 14357, 14359, 14360, 14364, 14408,\n",
       "       14425, 14427, 14491, 14492, 14493, 14515, 14583, 14585, 14647,\n",
       "       14743, 14784, 14787, 14790, 14828, 14830, 14866, 14878, 14879,\n",
       "       14941, 14942, 15033, 15037, 15090, 15096, 15104, 15106, 15107,\n",
       "       15134, 15136, 15137, 15138, 15190, 15194, 15195, 15201, 15272,\n",
       "       15287, 15296, 15315, 15317, 15319, 15320, 15321, 15323, 15351,\n",
       "       15381, 15394, 15471, 15475, 15497, 15499, 15596, 15606, 16508,\n",
       "       16532, 16630, 16983, 17097, 17155, 17269, 17366, 17386, 17439,\n",
       "       17534, 17539, 17540, 17671, 17706, 17730, 17771, 17776, 17777,\n",
       "       17804, 17860, 17880, 17935, 17983, 17994, 18070, 18083, 18129,\n",
       "       18216, 18237, 18291, 18293, 18334, 18335, 18493, 18496, 18718,\n",
       "       18803, 18804, 18829, 19079, 19115, 19150, 19161, 19363],\n",
       "      dtype=int64)"
      ]
     },
     "execution_count": 18,
     "metadata": {},
     "output_type": "execute_result"
    }
   ],
   "source": [
    "elips_outliers"
   ]
  }
 ],
 "metadata": {
  "kernelspec": {
   "display_name": "Python 3",
   "language": "python",
   "name": "python3"
  },
  "language_info": {
   "codemirror_mode": {
    "name": "ipython",
    "version": 3
   },
   "file_extension": ".py",
   "mimetype": "text/x-python",
   "name": "python",
   "nbconvert_exporter": "python",
   "pygments_lexer": "ipython3",
   "version": "3.8.5"
  }
 },
 "nbformat": 4,
 "nbformat_minor": 4
}
