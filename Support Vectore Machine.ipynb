{
 "cells": [
  {
   "cell_type": "code",
   "execution_count": 1,
   "metadata": {},
   "outputs": [],
   "source": [
    "from sklearn.svm import SVC\n",
    "import numpy as np\n",
    "import pandas as pd\n",
    "\n",
    "df = pd.read_csv(\"C:/Users/Gabo0/Desktop/Jupyter Python/Ejercicios Linkedin/base_datos_2008.csv\")\n",
    "df = df.dropna(subset=[\"ArrDelay\"]) #Elimina los casos faltante\n",
    "df = df.sample(frac=1) #mezclamos la base de datos\n",
    "dftest = df.tail(1000) #Test\n",
    "df = df.head(1000) #Training"
   ]
  },
  {
   "cell_type": "code",
   "execution_count": 4,
   "metadata": {},
   "outputs": [],
   "source": [
    "X = df[[\"Distance\",\"AirTime\",'DepTime','TaxiIn','TaxiOut','DepDelay']] #Variables que usamos como regresores\n",
    "X_test = dftest[[\"Distance\",\"AirTime\",'DepTime','TaxiIn','TaxiOut','DepDelay']]\n",
    "\n",
    "Y = df[\"ArrDelay\"] > 10 # variable respuesta\n",
    "Y_test = dftest[\"ArrDelay\"] > 10\n",
    "\n",
    "clf = SVC(kernel =\"linear\") #Se pueden escoger diferentes kernel\n",
    "clf.fit(X,Y)\n",
    "\n",
    "Y_pred = clf.predict(X_test)\n",
    "# C / Kernel"
   ]
  },
  {
   "cell_type": "code",
   "execution_count": 5,
   "metadata": {},
   "outputs": [
    {
     "data": {
      "text/plain": [
       "0.928"
      ]
     },
     "execution_count": 5,
     "metadata": {},
     "output_type": "execute_result"
    }
   ],
   "source": [
    "np.mean(Y_pred == Y_test)"
   ]
  },
  {
   "cell_type": "code",
   "execution_count": null,
   "metadata": {},
   "outputs": [],
   "source": [
    "# http://scikit-Learn.org/stable/modules/svm.html#svm-kernels\n",
    "\n",
    "#linear / poly / rbf / sigmoid"
   ]
  },
  {
   "cell_type": "code",
   "execution_count": null,
   "metadata": {},
   "outputs": [],
   "source": [
    "# para kernels lineales -> LinearSVC"
   ]
  }
 ],
 "metadata": {
  "kernelspec": {
   "display_name": "Python 3",
   "language": "python",
   "name": "python3"
  },
  "language_info": {
   "codemirror_mode": {
    "name": "ipython",
    "version": 3
   },
   "file_extension": ".py",
   "mimetype": "text/x-python",
   "name": "python",
   "nbconvert_exporter": "python",
   "pygments_lexer": "ipython3",
   "version": "3.8.5"
  }
 },
 "nbformat": 4,
 "nbformat_minor": 4
}
